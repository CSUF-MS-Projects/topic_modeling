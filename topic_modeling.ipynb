{
  "nbformat": 4,
  "nbformat_minor": 0,
  "metadata": {
    "colab": {
      "name": "topic_modeling.ipynb",
      "version": "0.3.2",
      "provenance": [],
      "collapsed_sections": [],
      "include_colab_link": true
    },
    "kernelspec": {
      "name": "python3",
      "display_name": "Python 3"
    },
    "accelerator": "GPU"
  },
  "cells": [
    {
      "cell_type": "markdown",
      "metadata": {
        "id": "view-in-github",
        "colab_type": "text"
      },
      "source": [
        "<a href=\"https://colab.research.google.com/github/suchartee/topic_modeling/blob/master/topic_modeling.ipynb\" target=\"_parent\"><img src=\"https://colab.research.google.com/assets/colab-badge.svg\" alt=\"Open In Colab\"/></a>"
      ]
    },
    {
      "cell_type": "code",
      "metadata": {
        "id": "7tKQtPTpPMcd",
        "colab_type": "code",
        "colab": {}
      },
      "source": [
        "# https://github.com/suchartee/topic_modeling"
      ],
      "execution_count": 0,
      "outputs": []
    },
    {
      "cell_type": "markdown",
      "metadata": {
        "id": "zTXqjRqjLRqd",
        "colab_type": "text"
      },
      "source": [
        "Libraries"
      ]
    },
    {
      "cell_type": "code",
      "metadata": {
        "id": "rI9pRc1YLQbP",
        "colab_type": "code",
        "colab": {}
      },
      "source": [
        "import pandas as pd\n",
        "import re\n",
        "import requests\n",
        "import string\n",
        "import time\n",
        "import sys\n",
        "from bs4 import BeautifulSoup"
      ],
      "execution_count": 0,
      "outputs": []
    },
    {
      "cell_type": "markdown",
      "metadata": {
        "id": "vLYgH5DbLI5B",
        "colab_type": "text"
      },
      "source": [
        "# **Getting data**"
      ]
    },
    {
      "cell_type": "code",
      "metadata": {
        "id": "ifhFcwFoKyfK",
        "colab_type": "code",
        "colab": {}
      },
      "source": [
        "# GET .JSON FILE FROM GITHUB\n",
        "# read .json to list\n",
        "with open('News_Category_Dataset_v2.json', 'r') as f:\n",
        "    data = f.readlines()\n",
        "# remove the trailing \"\\n\" from each line\n",
        "data = map(lambda x: x.strip(), data)\n",
        "data_json_str = \"[\" + ','.join(data) + \"]\"\n",
        "# load it into df\n",
        "data_df = pd.read_json(data_json_str)"
      ],
      "execution_count": 0,
      "outputs": []
    },
    {
      "cell_type": "code",
      "metadata": {
        "id": "Nkvp_7_bMiSi",
        "colab_type": "code",
        "colab": {}
      },
      "source": [
        "### THIS WOULD TAKE 3 DAYS TO GET ALL\n",
        "# soup content from data_df['urls']\n",
        "start = time.time()\n",
        "t = []\n",
        "c = []\n",
        "for i, url in enumerate(data_df['link']):\n",
        "    temp = re.sub(\".*https?:\\/\\/\", \"http://\", url)\n",
        "    # get only huffpost website\n",
        "    if 'huffingtonpost' in temp:\n",
        "        try:\n",
        "            headers = {'User-Agent': 'Chrome/50.0.2661.102'}\n",
        "            html = requests.get(temp, headers=headers) \n",
        "            soup = BeautifulSoup(html.content, \"html5lib\")\n",
        "            text = [p.text for p in soup.find_all(\"div\", {\"class\": \"content-list-component yr-content-list-text text\"})]\n",
        "            t.append(text)\n",
        "            c.append(data_df['category'][i])\n",
        "            print(i, temp, ((time.time() - start)/60)/60)\n",
        "        except Exception:\n",
        "            pass\n",
        "print(\"Got all soup: \" + str((time.time() - start)/60) + \" mins\")"
      ],
      "execution_count": 0,
      "outputs": []
    },
    {
      "cell_type": "code",
      "metadata": {
        "id": "foKWzLlzNoPa",
        "colab_type": "code",
        "colab": {}
      },
      "source": [
        "# convert from df to xlsx for later uses\n",
        "# join contents for each url\n",
        "t = [\" \".join(i) for i in t]\n",
        "# df of transcript and category\n",
        "df = pd.DataFrame([t, c]).transpose()\n",
        "# name the columns\n",
        "df.columns = ['transcript','category']\n",
        "# remove all the blank content\n",
        "df = df[df['transcript'] != '']\n",
        "# export .xlsx\n",
        "df.to_excel(\"transcript_category_no_index.xlsx\", index=False)"
      ],
      "execution_count": 0,
      "outputs": []
    },
    {
      "cell_type": "markdown",
      "metadata": {
        "id": "Xat7voUdO9ka",
        "colab_type": "text"
      },
      "source": [
        "# **Cleaning data**"
      ]
    },
    {
      "cell_type": "code",
      "metadata": {
        "id": "AXLZhUSxPBZ0",
        "colab_type": "code",
        "colab": {}
      },
      "source": [
        "# GET XLSX FILE FROM GITHUB\n",
        "url = 'https://github.com/suchartee/topic_modeling/blob/master/data/transcript.xlsx?raw=true'\n",
        "df = pd.read_excel(url)"
      ],
      "execution_count": 0,
      "outputs": []
    },
    {
      "cell_type": "code",
      "metadata": {
        "id": "KGQhNJ91tB2M",
        "colab_type": "code",
        "colab": {}
      },
      "source": [
        "def clean_text_huffpost(text):\n",
        "  try:\n",
        "    # lowercase\n",
        "    text = text.lower()\n",
        "    # remove punctuation\n",
        "    text = re.sub('[%s]' % re.escape(string.punctuation), ' ', text)\n",
        "    # remove special char\n",
        "    text = re.sub('[‘’“”…―]|\\n|\\xa0|\\w*\\d\\w*', ' ', text)\n",
        "    # change extra whitespace to 1\n",
        "    text = re.sub('[ ]{2,}', ' ', text).strip()\n",
        "  except AttributeError:\n",
        "    pass\n",
        "  return text"
      ],
      "execution_count": 0,
      "outputs": []
    },
    {
      "cell_type": "code",
      "metadata": {
        "id": "RUCwpEdXuBFZ",
        "colab_type": "code",
        "colab": {
          "base_uri": "https://localhost:8080/",
          "height": 34
        },
        "outputId": "613be16e-5e52-491e-8714-1543f0ef39b9"
      },
      "source": [
        "df['transcript'] = df['transcript'].apply(lambda x: clean_text_huffpost(x))"
      ],
      "execution_count": 19,
      "outputs": [
        {
          "output_type": "stream",
          "text": [
            "nan\n"
          ],
          "name": "stdout"
        }
      ]
    },
    {
      "cell_type": "code",
      "metadata": {
        "id": "JRtcJ6XSuoYo",
        "colab_type": "code",
        "colab": {
          "base_uri": "https://localhost:8080/",
          "height": 204
        },
        "outputId": "6242c53f-c823-4ccf-cb6f-333499f27fe2"
      },
      "source": [
        "df.head()"
      ],
      "execution_count": 20,
      "outputs": [
        {
          "output_type": "execute_result",
          "data": {
            "text/html": [
              "<div>\n",
              "<style scoped>\n",
              "    .dataframe tbody tr th:only-of-type {\n",
              "        vertical-align: middle;\n",
              "    }\n",
              "\n",
              "    .dataframe tbody tr th {\n",
              "        vertical-align: top;\n",
              "    }\n",
              "\n",
              "    .dataframe thead th {\n",
              "        text-align: right;\n",
              "    }\n",
              "</style>\n",
              "<table border=\"1\" class=\"dataframe\">\n",
              "  <thead>\n",
              "    <tr style=\"text-align: right;\">\n",
              "      <th></th>\n",
              "      <th>transcript</th>\n",
              "      <th>category</th>\n",
              "    </tr>\n",
              "  </thead>\n",
              "  <tbody>\n",
              "    <tr>\n",
              "      <th>0</th>\n",
              "      <td>denton texas amanda painter sat at the kitchen...</td>\n",
              "      <td>CRIME</td>\n",
              "    </tr>\n",
              "    <tr>\n",
              "      <th>1</th>\n",
              "      <td>the fifa world cup starts june in russia and n...</td>\n",
              "      <td>ENTERTAINMENT</td>\n",
              "    </tr>\n",
              "    <tr>\n",
              "      <th>2</th>\n",
              "      <td>love actually turned to matrimony for hugh gra...</td>\n",
              "      <td>ENTERTAINMENT</td>\n",
              "    </tr>\n",
              "    <tr>\n",
              "      <th>3</th>\n",
              "      <td>rep adam schiff d calif and fellow democrats b...</td>\n",
              "      <td>ENTERTAINMENT</td>\n",
              "    </tr>\n",
              "    <tr>\n",
              "      <th>4</th>\n",
              "      <td>actress julianna margulies unleashed her funny...</td>\n",
              "      <td>ENTERTAINMENT</td>\n",
              "    </tr>\n",
              "  </tbody>\n",
              "</table>\n",
              "</div>"
            ],
            "text/plain": [
              "                                          transcript       category\n",
              "0  denton texas amanda painter sat at the kitchen...          CRIME\n",
              "1  the fifa world cup starts june in russia and n...  ENTERTAINMENT\n",
              "2  love actually turned to matrimony for hugh gra...  ENTERTAINMENT\n",
              "3  rep adam schiff d calif and fellow democrats b...  ENTERTAINMENT\n",
              "4  actress julianna margulies unleashed her funny...  ENTERTAINMENT"
            ]
          },
          "metadata": {
            "tags": []
          },
          "execution_count": 20
        }
      ]
    },
    {
      "cell_type": "code",
      "metadata": {
        "id": "cODGAPIyxrkH",
        "colab_type": "code",
        "colab": {
          "base_uri": "https://localhost:8080/",
          "height": 34
        },
        "outputId": "dd913a89-1928-46d6-9954-273db282038c"
      },
      "source": [
        "# remove stop words\n",
        "!pwd"
      ],
      "execution_count": 21,
      "outputs": [
        {
          "output_type": "stream",
          "text": [
            "/content\n"
          ],
          "name": "stdout"
        }
      ]
    }
  ]
}